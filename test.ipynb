{
 "cells": [
  {
   "cell_type": "code",
   "execution_count": 13,
   "metadata": {},
   "outputs": [],
   "source": [
    "import pandas as pd\n",
    "import numpy as np\n",
    "import sys\n",
    "import re\n",
    "from io import StringIO, BytesIO\n",
    "pd.set_option('display.max_rows', 1000)\n",
    "pd.set_option('display.max_columns', 1000)\n",
    "pd.set_option('display.width', 1000)"
   ]
  },
  {
   "cell_type": "code",
   "execution_count": 14,
   "metadata": {},
   "outputs": [],
   "source": [
    "codestring = '''test_df = pd.DataFrame(np.random.randn(1000, 4), index=pd.date_range('1/1/2000', periods=1000), columns=list('ABCD'))\n",
    "test_df.head()'''\n",
    "code2 = '''# this is a test of multiline code including indented lines\n",
    "def test():\n",
    "    print('this is a test')\n",
    "    \n",
    "test()'''\n",
    "code3 = '''def test2(oh, my):\n",
    "    if oh == my:\n",
    "        return 'same outputs'\n",
    "    else:\n",
    "        return 'different outputs'\n",
    "\n",
    "oh = 'oh'\n",
    "my = 'my'\n",
    "\n",
    "test2(oh, my)'''\n",
    "code4 = '''a = 10\n",
    "b = 20\n",
    "c = a + b\n",
    "c'''"
   ]
  },
  {
   "cell_type": "code",
   "execution_count": null,
   "metadata": {},
   "outputs": [],
   "source": [
    "import logging\n",
    "import contextlib\n",
    "\n",
    "# write a context manager that redirects stdout, stderr, and any other caught outputs to a variable\n",
    "class OutputLogger:\n",
    "    def __init__(self, name=\"root\", level=)"
   ]
  },
  {
   "cell_type": "code",
   "execution_count": 78,
   "metadata": {},
   "outputs": [],
   "source": [
    "import re\n",
    "import contextlib\n",
    "\n",
    "# analyze a string of code and determine whether it contains potentially malicious code. Returns False for potentially malicious code, True for supposedly safe code\n",
    "def check_code(code):\n",
    "    code = re.sub(r'\\s{2,}', ' ', code)\n",
    "    forbidden = ['os.system', 'subprocess.call', 'from os import system', 'import subprocess', 'from subprocess import call', 'shell=True', 'shell = True', 'shell= True', 'shell =True']\n",
    "    for f in forbidden:\n",
    "        if f in code:\n",
    "            return False\n",
    "        \n",
    "    return True\n",
    "\n",
    "\n",
    "# split a string of code into blocks of code based on newline unless a line starts with whitespace\n",
    "def split_to_blocks(code):\n",
    "    codeblocks = []\n",
    "    for line in code.split('\\n'):\n",
    "        if len(line.strip()) == 0:\n",
    "            continue\n",
    "        elif line.startswith(' ') or line.startswith('\\t'):\n",
    "            codeblocks[-1] += '\\n' + line\n",
    "        else:\n",
    "            codeblocks.append(line)\n",
    "    return codeblocks\n",
    "\n",
    "\n",
    "# analyze blocks generated from user code and determine run schema\n",
    "def run_schema(blocks):\n",
    "    if len(blocks) == 1:\n",
    "        return 'single'\n",
    "    elif len(blocks) >= 2 and len(blocks[-1].splitlines()) <= 2:\n",
    "        return 'multi_last_single'\n",
    "    elif len(blocks) >= 2 and len(blocks[-1].splitlines()) > 2:\n",
    "        return 'multi_last_multi'\n",
    "    else:\n",
    "        return 'error'\n",
    "\n",
    "\n",
    "# run code blocks based on run schema\n",
    "def run_code(blocks, schema, namespace):\n",
    "    if schema == 'single':\n",
    "        ccode = compile(blocks[0], '<string>', 'single')\n",
    "        \n",
    "        exec(ccode, namespace)\n",
    "    elif schema == 'multi_last_single':\n",
    "        first = '\\n'.join(blocks[:-1])\n",
    "        ccode1 = compile(first, '<string>', 'exec')\n",
    "        exec(ccode1, namespace)\n",
    "        ccode2 = compile(blocks[-1], '<string>', 'single')\n",
    "        exec(ccode2, namespace)\n",
    "    elif schema == 'multi_last_multi':\n",
    "        first = '\\n'.join(blocks[:-1])\n",
    "        ccode1 = compile(first, '<string>', 'exec')\n",
    "        exec(ccode1, namespace)\n",
    "        ccode2 = compile(blocks[-1], '<string>', 'exec')\n",
    "        exec(ccode2, namespace)\n",
    "\n",
    "\n",
    "# all-in-one function for parsing and running code\n",
    "def code_parse(code):\n",
    "    status = check_code(code)\n",
    "    if status == False:\n",
    "        raise Exception('The provided code does not seem to be secure. Aborting process...')\n",
    "    else:\n",
    "        blocks = split_to_blocks(code)\n",
    "        schema = run_schema(blocks)\n",
    "        "
   ]
  },
  {
   "cell_type": "code",
   "execution_count": 21,
   "metadata": {},
   "outputs": [
    {
     "data": {
      "text/plain": [
       "30"
      ]
     },
     "execution_count": 21,
     "metadata": {},
     "output_type": "execute_result"
    }
   ],
   "source": [
    "blocks = split_to_blocks(code4)\n",
    "\n",
    "schema = run_schema(blocks)\n",
    "\n",
    "namespace = {}\n",
    "run_code(blocks, schema, namespace)"
   ]
  },
  {
   "cell_type": "code",
   "execution_count": 26,
   "metadata": {},
   "outputs": [],
   "source": [
    "df = pd.DataFrame(np.random.randn(1000, 4), index=pd.date_range('1/1/2000', periods=1000), columns=list('ABCD'))"
   ]
  },
  {
   "cell_type": "code",
   "execution_count": 107,
   "metadata": {},
   "outputs": [],
   "source": [
    "import subprocess\n",
    "from io import StringIO\n",
    "\n",
    "cmd = [sys.executable, '-u', '-c', '''import pandas as pd\n",
    "df = pd.DataFrame({\"a\": [1,2,3], \"b\": [9,8,7]})\n",
    "print(df.head())''']\n",
    "a = subprocess.Popen(cmd, stdout=subprocess.PIPE, stderr=subprocess.PIPE, bufsize=1)\n",
    "out, err = a.communicate()"
   ]
  },
  {
   "cell_type": "code",
   "execution_count": 110,
   "metadata": {},
   "outputs": [
    {
     "data": {
      "text/plain": [
       "'   a  b\\n0  1  9\\n1  2  8\\n2  3  7\\n'"
      ]
     },
     "execution_count": 110,
     "metadata": {},
     "output_type": "execute_result"
    }
   ],
   "source": [
    "out.decode('utf-8')"
   ]
  },
  {
   "cell_type": "code",
   "execution_count": 109,
   "metadata": {},
   "outputs": [
    {
     "data": {
      "text/plain": [
       "b''"
      ]
     },
     "execution_count": 109,
     "metadata": {},
     "output_type": "execute_result"
    }
   ],
   "source": [
    "err"
   ]
  },
  {
   "cell_type": "code",
   "execution_count": 120,
   "metadata": {},
   "outputs": [],
   "source": [
    "c1 = '''import pandas as pd\n",
    "df = pd.DataFrame({\"a\": [1,2,3], \"b\": [9,8,7]})'''\n",
    "c2 = '''df.head()'''"
   ]
  },
  {
   "cell_type": "code",
   "execution_count": 118,
   "metadata": {},
   "outputs": [],
   "source": [
    "exec(compile(c1, '<string>', 'exec'))"
   ]
  },
  {
   "cell_type": "code",
   "execution_count": 124,
   "metadata": {},
   "outputs": [],
   "source": [
    "old_stdout = sys.stdout"
   ]
  },
  {
   "cell_type": "code",
   "execution_count": 125,
   "metadata": {},
   "outputs": [
    {
     "data": {
      "text/html": [
       "<div>\n",
       "<style scoped>\n",
       "    .dataframe tbody tr th:only-of-type {\n",
       "        vertical-align: middle;\n",
       "    }\n",
       "\n",
       "    .dataframe tbody tr th {\n",
       "        vertical-align: top;\n",
       "    }\n",
       "\n",
       "    .dataframe thead th {\n",
       "        text-align: right;\n",
       "    }\n",
       "</style>\n",
       "<table border=\"1\" class=\"dataframe\">\n",
       "  <thead>\n",
       "    <tr style=\"text-align: right;\">\n",
       "      <th></th>\n",
       "      <th>a</th>\n",
       "      <th>b</th>\n",
       "    </tr>\n",
       "  </thead>\n",
       "  <tbody>\n",
       "    <tr>\n",
       "      <th>0</th>\n",
       "      <td>1</td>\n",
       "      <td>9</td>\n",
       "    </tr>\n",
       "    <tr>\n",
       "      <th>1</th>\n",
       "      <td>2</td>\n",
       "      <td>8</td>\n",
       "    </tr>\n",
       "    <tr>\n",
       "      <th>2</th>\n",
       "      <td>3</td>\n",
       "      <td>7</td>\n",
       "    </tr>\n",
       "  </tbody>\n",
       "</table>\n",
       "</div>"
      ],
      "text/plain": [
       "   a  b\n",
       "0  1  9\n",
       "1  2  8\n",
       "2  3  7"
      ]
     },
     "execution_count": 125,
     "metadata": {},
     "output_type": "execute_result"
    },
    {
     "name": "stdout",
     "output_type": "stream",
     "text": [
      "\n"
     ]
    }
   ],
   "source": [
    "new_output = StringIO()\n",
    "sys.stdout = new_output\n",
    "exec(compile(c2, '<string>', 'single'))\n",
    "sys.stdout = old_stdout"
   ]
  },
  {
   "cell_type": "code",
   "execution_count": 126,
   "metadata": {},
   "outputs": [
    {
     "name": "stdout",
     "output_type": "stream",
     "text": [
      "\n"
     ]
    }
   ],
   "source": [
    "print(new_output.getvalue())"
   ]
  },
  {
   "cell_type": "code",
   "execution_count": null,
   "metadata": {},
   "outputs": [],
   "source": []
  }
 ],
 "metadata": {
  "kernelspec": {
   "display_name": "Python 3.9.13 ('base')",
   "language": "python",
   "name": "python3"
  },
  "language_info": {
   "codemirror_mode": {
    "name": "ipython",
    "version": 3
   },
   "file_extension": ".py",
   "mimetype": "text/x-python",
   "name": "python",
   "nbconvert_exporter": "python",
   "pygments_lexer": "ipython3",
   "version": "3.9.13"
  },
  "orig_nbformat": 4,
  "vscode": {
   "interpreter": {
    "hash": "265371ff1b98b9f4eaa16d44fb1eb5bb5e02f4557e1c68186d1d500959ccd159"
   }
  }
 },
 "nbformat": 4,
 "nbformat_minor": 2
}
